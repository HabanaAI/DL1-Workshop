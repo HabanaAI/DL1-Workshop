{
 "cells": [
  {
   "cell_type": "markdown",
   "id": "bd029303-e4b4-4ab6-a868-eaae9d1f1891",
   "metadata": {},
   "source": [
    "# TensorFlow Keras ResNet50 Example on Habana Gaudi\n",
    "\n",
    "This Jupyter Notebook example demonstrates how to train Keras ResNet50 on Habana Gaudi device with TensorFlow framework. The neural network is built with Keras APIs, and trained with synthetic data."
   ]
  },
  {
   "cell_type": "code",
   "execution_count": null,
   "id": "5f878d55",
   "metadata": {},
   "outputs": [],
   "source": [
    "%pwd"
   ]
  },
  {
   "cell_type": "code",
   "execution_count": null,
   "id": "14a2c15b",
   "metadata": {},
   "outputs": [],
   "source": [
    "%ls"
   ]
  },
  {
   "cell_type": "markdown",
   "id": "af023840",
   "metadata": {},
   "source": [
    "## Setup"
   ]
  },
  {
   "cell_type": "markdown",
   "id": "ddcff2f3",
   "metadata": {},
   "source": [
    "Since we already have cloned Habana `Model-References` repository 1.3.0 branch to this DLAMI, now let's add it to PYTHONPATH."
   ]
  },
  {
   "cell_type": "code",
   "execution_count": null,
   "id": "7b70f0c4",
   "metadata": {},
   "outputs": [],
   "source": [
    "%set_env PYTHONPATH=/home/ubuntu/work/Model-References"
   ]
  },
  {
   "cell_type": "code",
   "execution_count": null,
   "id": "6492f9e1",
   "metadata": {},
   "outputs": [],
   "source": [
    "%cd /home/ubuntu/work/Model-References/TensorFlow/computer_vision/Resnets/resnet_keras"
   ]
  },
  {
   "cell_type": "markdown",
   "id": "ab04a769",
   "metadata": {},
   "source": [
    "Next, we need to install all the Python packages that ResNet50 depends on."
   ]
  },
  {
   "cell_type": "code",
   "execution_count": null,
   "id": "3d4ee6fa",
   "metadata": {},
   "outputs": [],
   "source": [
    "!python3 -m pip install -r requirements.txt"
   ]
  },
  {
   "cell_type": "markdown",
   "id": "49184132",
   "metadata": {},
   "source": [
    "## Training on 1 HPU"
   ]
  },
  {
   "cell_type": "markdown",
   "id": "8b4446c9-3a32-4a79-814c-b77faee54310",
   "metadata": {},
   "source": [
    "After all the dependant Python packages are installed, let's launch ResNet50 training with LARS optimizer on a single HPU with synthetic data in BF16 data type with commmand:\n",
    "\n",
    "``` \n",
    "python3 resnet_ctl_imagenet_main.py --dtype bf16 --data_loader_image_type bf16 --batch_size 256 --optimizer LARS --data_dir ./ --use_synthetic_data True --train_steps 800 --steps_per_loop 100 --model_dir model_tmp --enable_tensorboard True --base_learning_rate 2.5 --warmup_epochs 3 --lr_schedule polynomial --label_smoothing 0.1 --weight_decay 0.0001 --single_l2_loss_op\n",
    "```"
   ]
  },
  {
   "cell_type": "code",
   "execution_count": null,
   "id": "491c53eb",
   "metadata": {},
   "outputs": [],
   "source": [
    "!python3 resnet_ctl_imagenet_main.py --dtype bf16 --data_loader_image_type bf16 --batch_size 256 --optimizer LARS --data_dir ./ --use_synthetic_data True --train_steps 800 --steps_per_loop 100 --model_dir model_tmp --enable_tensorboard True --base_learning_rate 2.5 --warmup_epochs 3 --lr_schedule polynomial --label_smoothing 0.1 --weight_decay 0.0001 --single_l2_loss_op"
   ]
  },
  {
   "cell_type": "markdown",
   "id": "26bfc711",
   "metadata": {},
   "source": [
    "From the logs above, we can see the training throughput for ResNet50 on 1 HPU is around 1634 examples/second."
   ]
  },
  {
   "cell_type": "code",
   "execution_count": null,
   "id": "0b2ee356",
   "metadata": {},
   "outputs": [],
   "source": []
  }
 ],
 "metadata": {
  "kernelspec": {
   "display_name": "Python 3 (ipykernel)",
   "language": "python",
   "name": "python3"
  },
  "language_info": {
   "codemirror_mode": {
    "name": "ipython",
    "version": 3
   },
   "file_extension": ".py",
   "mimetype": "text/x-python",
   "name": "python",
   "nbconvert_exporter": "python",
   "pygments_lexer": "ipython3",
   "version": "3.7.4"
  }
 },
 "nbformat": 4,
 "nbformat_minor": 5
}
