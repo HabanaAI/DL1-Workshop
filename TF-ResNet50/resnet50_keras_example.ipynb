{
 "cells": [
  {
   "cell_type": "markdown",
   "id": "ee8d4293-f1b9-48d7-b588-593732fdd0e9",
   "metadata": {
    "tags": []
   },
   "source": [
    "Copyright (c) 2023 Habana Labs, Ltd. an Intel Company.<br>\n",
    "Copyright (c) 2019 The TensorFlow Authors.\n",
    "\n",
    "## Licensed under the Apache License, Version 2.0 (the \"License\");\n",
    "you may not use this file except in compliance with the License.\n",
    "You may obtain a copy of the License at https://www.apache.org/licenses/LICENSE-2.0 Unless required by applicable law or agreed to in writing, software distributed under the License is distributed on an \"AS IS\" BASIS, WITHOUT WARRANTIES OR CONDITIONS OF ANY KIND, either express or implied.\n",
    "See the License for the specific language governing permissions and limitations under the License."
   ]
  },
  {
   "cell_type": "markdown",
   "id": "feebcb3f",
   "metadata": {},
   "source": [
    "# TensorFlow Keras ResNet50 Example on Habana Gaudi\n",
    "\n",
    "This Jupyter Notebook example demonstrates how to train Keras ResNet50 on Habana Gaudi device with TensorFlow framework. The neural network is built with Keras APIs, and trained with synthetic data."
   ]
  },
  {
   "cell_type": "markdown",
   "id": "27e4b863",
   "metadata": {},
   "source": [
    "## Setup"
   ]
  },
  {
   "cell_type": "markdown",
   "id": "34da5e3b",
   "metadata": {},
   "source": [
    "Since we already have cloned Habana `Model-References` repository 1.6.0 branch to this DLAMI, now let's add it to PYTHONPATH."
   ]
  },
  {
   "cell_type": "code",
   "execution_count": null,
   "id": "513fb292",
   "metadata": {},
   "outputs": [],
   "source": [
    "!export PYTHONPATH=/root/Model-References:$PYTHONPATH"
   ]
  },
  {
   "cell_type": "code",
   "execution_count": null,
   "id": "dd2da511",
   "metadata": {},
   "outputs": [],
   "source": [
    "%cd /root/Model-References/TensorFlow/computer_vision/Resnets/resnet_keras"
   ]
  },
  {
   "cell_type": "markdown",
   "id": "a2e3543f",
   "metadata": {},
   "source": [
    "Next, we need to install all the Python packages that ResNet50 depends on."
   ]
  },
  {
   "cell_type": "code",
   "execution_count": 5,
   "id": "5a6208ce",
   "metadata": {},
   "outputs": [
    {
     "name": "stdout",
     "output_type": "stream",
     "text": [
      "Collecting absl_py==1.0.0\n",
      "  Downloading absl_py-1.0.0-py3-none-any.whl (126 kB)\n",
      "\u001b[K     |████████████████████████████████| 126 kB 7.5 MB/s eta 0:00:01\n",
      "\u001b[?25hCollecting PyYAML==5.4.1\n",
      "  Downloading PyYAML-5.4.1-cp38-cp38-manylinux1_x86_64.whl (662 kB)\n",
      "\u001b[K     |████████████████████████████████| 662 kB 25.7 MB/s eta 0:00:01\n",
      "\u001b[?25hCollecting tensorflow_model_optimization==0.7.2\n",
      "  Downloading tensorflow_model_optimization-0.7.2-py2.py3-none-any.whl (237 kB)\n",
      "\u001b[K     |████████████████████████████████| 237 kB 164.4 MB/s eta 0:00:01\n",
      "\u001b[?25hCollecting requests==2.25.1\n",
      "  Downloading requests-2.25.1-py2.py3-none-any.whl (61 kB)\n",
      "\u001b[K     |████████████████████████████████| 61 kB 46.7 MB/s eta 0:00:011\n",
      "\u001b[?25hCollecting py-cpuinfo==8.0.0\n",
      "  Downloading py-cpuinfo-8.0.0.tar.gz (99 kB)\n",
      "\u001b[K     |████████████████████████████████| 99 kB 118.0 MB/s eta 0:00:01\n",
      "\u001b[?25hRequirement already satisfied: six in /usr/local/lib/python3.8/dist-packages (from absl_py==1.0.0->-r requirements.txt (line 1)) (1.16.0)\n",
      "Collecting chardet<5,>=3.0.2\n",
      "  Downloading chardet-4.0.0-py2.py3-none-any.whl (178 kB)\n",
      "\u001b[K     |████████████████████████████████| 178 kB 155.8 MB/s eta 0:00:01\n",
      "\u001b[?25hRequirement already satisfied: urllib3<1.27,>=1.21.1 in /usr/local/lib/python3.8/dist-packages (from requests==2.25.1->-r requirements.txt (line 4)) (1.26.11)\n",
      "Requirement already satisfied: certifi>=2017.4.17 in /usr/local/lib/python3.8/dist-packages (from requests==2.25.1->-r requirements.txt (line 4)) (2022.6.15)\n",
      "Collecting idna<3,>=2.5\n",
      "  Downloading idna-2.10-py2.py3-none-any.whl (58 kB)\n",
      "\u001b[K     |████████████████████████████████| 58 kB 134.3 MB/s eta 0:00:01\n",
      "\u001b[?25hCollecting dm-tree~=0.1.1\n",
      "  Downloading dm_tree-0.1.7-cp38-cp38-manylinux_2_12_x86_64.manylinux2010_x86_64.whl (142 kB)\n",
      "\u001b[K     |████████████████████████████████| 142 kB 157.3 MB/s eta 0:00:01\n",
      "\u001b[?25hRequirement already satisfied: numpy~=1.14 in /usr/local/lib/python3.8/dist-packages (from tensorflow_model_optimization==0.7.2->-r requirements.txt (line 3)) (1.23.1)\n",
      "Building wheels for collected packages: py-cpuinfo\n",
      "  Building wheel for py-cpuinfo (setup.py) ... \u001b[?25ldone\n",
      "\u001b[?25h  Created wheel for py-cpuinfo: filename=py_cpuinfo-8.0.0-py3-none-any.whl size=22256 sha256=9a5aae01a3cb93294b7c6ccc86df8cce1297279186dc2e2c2e7d267ad60d2136\n",
      "  Stored in directory: /tmp/pip-ephem-wheel-cache-n_5xyv99/wheels/57/cb/6d/bab2257f26c5be4a96ff65c3d2a7122c96529b73773ee37f36\n",
      "Successfully built py-cpuinfo\n",
      "Installing collected packages: idna, dm-tree, chardet, tensorflow-model-optimization, requests, PyYAML, py-cpuinfo, absl-py\n",
      "  Attempting uninstall: idna\n",
      "    Found existing installation: idna 3.3\n",
      "    Uninstalling idna-3.3:\n",
      "      Successfully uninstalled idna-3.3\n",
      "  Attempting uninstall: requests\n",
      "    Found existing installation: requests 2.28.1\n",
      "    Uninstalling requests-2.28.1:\n",
      "      Successfully uninstalled requests-2.28.1\n",
      "  Attempting uninstall: PyYAML\n",
      "    Found existing installation: PyYAML 6.0\n",
      "    Uninstalling PyYAML-6.0:\n",
      "      Successfully uninstalled PyYAML-6.0\n",
      "  Attempting uninstall: absl-py\n",
      "    Found existing installation: absl-py 1.2.0\n",
      "    Uninstalling absl-py-1.2.0:\n",
      "      Successfully uninstalled absl-py-1.2.0\n",
      "Successfully installed PyYAML-5.4.1 absl-py-1.0.0 chardet-4.0.0 dm-tree-0.1.7 idna-2.10 py-cpuinfo-8.0.0 requests-2.25.1 tensorflow-model-optimization-0.7.2\n",
      "\u001b[33mWARNING: You are using pip version 21.0.1; however, version 22.2.2 is available.\n",
      "You should consider upgrading via the '/usr/bin/python3 -m pip install --upgrade pip' command.\u001b[0m\n"
     ]
    }
   ],
   "source": [
    "!python3 -m pip install -r requirements.txt"
   ]
  },
  {
   "cell_type": "markdown",
   "id": "75671699",
   "metadata": {},
   "source": [
    "## Training on 1 HPU"
   ]
  },
  {
   "cell_type": "markdown",
   "id": "98f7b214",
   "metadata": {},
   "source": [
    "After all the dependant Python packages are installed, let's launch ResNet50 training with LARS optimizer on a single HPU with synthetic data in BF16 data type with commmand:\n",
    "\n",
    "``` \n",
    "python3 resnet_ctl_imagenet_main.py --dtype bf16 --data_loader_image_type bf16 --batch_size 256 --optimizer LARS --data_dir ./ --use_synthetic_data True --train_steps 800 --steps_per_loop 100 --model_dir model_tmp --enable_tensorboard True --base_learning_rate 2.5 --warmup_epochs 3 --lr_schedule polynomial --label_smoothing 0.1 --weight_decay 0.0001 --single_l2_loss_op\n",
    "```"
   ]
  },
  {
   "cell_type": "code",
   "execution_count": null,
   "id": "e6ab644f",
   "metadata": {},
   "outputs": [],
   "source": [
    "!python3 resnet_ctl_imagenet_main.py --dtype bf16 --data_loader_image_type bf16 --batch_size 256 --optimizer LARS --data_dir ./ --use_synthetic_data True --train_steps 800 --steps_per_loop 100 --model_dir model_tmp --enable_tensorboard True --base_learning_rate 2.5 --warmup_epochs 3 --lr_schedule polynomial --label_smoothing 0.1 --weight_decay 0.0001 --single_l2_loss_op"
   ]
  },
  {
   "cell_type": "markdown",
   "id": "f46ad922",
   "metadata": {},
   "source": [
    "From the logs above, we can see the training throughput for ResNet50 on 1 HPU is around 1585 examples/second."
   ]
  }
 ],
 "metadata": {
  "kernelspec": {
   "display_name": "Python 3 (ipykernel)",
   "language": "python",
   "name": "python3"
  },
  "language_info": {
   "codemirror_mode": {
    "name": "ipython",
    "version": 3
   },
   "file_extension": ".py",
   "mimetype": "text/x-python",
   "name": "python",
   "nbconvert_exporter": "python",
   "pygments_lexer": "ipython3",
   "version": "3.8.10"
  }
 },
 "nbformat": 4,
 "nbformat_minor": 5
}
