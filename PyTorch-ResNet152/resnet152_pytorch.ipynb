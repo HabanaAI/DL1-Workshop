{
 "cells": [
  {
   "cell_type": "markdown",
   "metadata": {},
   "source": [
    "# Resnet152 PyTorch Multi-Card Training on Gaudi\n",
    "\n",
    "In this notebook we will demonstrate how you can train the resnet152 image classifier using Pytorch on 8 HPUs. "
   ]
  },
  {
   "cell_type": "markdown",
   "metadata": {},
   "source": [
    "### Habana Mixed Precision Usage and why it’s important\n",
    "Habana Mixed Precision (HMP) package is a tool that allows you to run mixed precision training on HPU without extensive modifications to existing FP32 model scripts. You can easily add mixed precision training support to the model script by adding the following lines anywhere in the script before the start of the training loop:"
   ]
  },
  {
   "attachments": {},
   "cell_type": "markdown",
   "metadata": {},
   "source": [
    ">`from habana_frameworks.torch.hpex import hmp`<br>\n",
    ">`hmp.convert()`"
   ]
  },
  {
   "cell_type": "markdown",
   "metadata": {},
   "source": [
    "## Distributed Training"
   ]
  },
  {
   "cell_type": "markdown",
   "metadata": {},
   "source": [
    "We will use the Model-References repository command line to demo distributed training on 8 HPUs. \n",
    "Distributed training differs in the following ways.\n",
    "\n",
    "1. [Initialization with hccl](https://github.com/HabanaAI/Model-References/blob/1.6.0/PyTorch/computer_vision/classification/torchvision/utils.py#L249) with torch.distributed package using DDP - Distributed Data Parallel\n",
    "\n",
    "2. [Use the torch distributed data sampler](https://github.com/HabanaAI/Model-References/blob/1.6.0/PyTorch/computer_vision/classification/torchvision/train.py#L179)\n",
    "\n",
    "3. [Distributed data parallel pytorch model initalization](https://github.com/HabanaAI/Model-References/blob/1.6.0/PyTorch/computer_vision/classification/torchvision/train.py#L328)\n"
   ]
  },
  {
   "cell_type": "markdown",
   "metadata": {},
   "source": [
    "### Initialization with HCCL"
   ]
  },
  {
   "attachments": {},
   "cell_type": "markdown",
   "metadata": {},
   "source": [
    ">`from habana_frameworks.torch.distributed.hccl import initialize_distributed_hpu`<br>\n",
    ">`args.world_size, args.rank, args.local_rank = initialize_distributed_hpu()`<br>\n",
    ">\n",
    ">`if args.device == 'hpu':`<br>\n",
    "&emsp;`args.dist_backend = 'hccl'`<br>\n",
    "&emsp;`dist.init_process_group(args.dist_backend, rank=args.rank, world_size=args.world_size)`"
   ]
  },
  {
   "cell_type": "markdown",
   "metadata": {},
   "source": [
    "### Torch Distributed Data Sampler"
   ]
  },
  {
   "attachments": {},
   "cell_type": "markdown",
   "metadata": {
    "vscode": {
     "languageId": "python"
    }
   },
   "source": [
    ">`if distributed:`<br>\n",
    "&emsp;`train_sampler = torch.utils.data.distributed.DistributedSampler(dataset)`"
   ]
  },
  {
   "cell_type": "markdown",
   "metadata": {},
   "source": [
    "### Distributed Data Parallel PyTorch Model Initialization"
   ]
  },
  {
   "attachments": {},
   "cell_type": "markdown",
   "metadata": {
    "vscode": {
     "languageId": "python"
    }
   },
   "source": [
    ">`model = torch.nn.parallel.DistributedDataParallel(model, broadcast_buffers=False,\n",
    "                    gradient_as_bucket_view=True)`"
   ]
  },
  {
   "cell_type": "markdown",
   "metadata": {},
   "source": [
    "#### Set the ENV variables to begin the run"
   ]
  },
  {
   "cell_type": "code",
   "execution_count": 4,
   "metadata": {
    "vscode": {
     "languageId": "python"
    }
   },
   "outputs": [
    {
     "name": "stdout",
     "output_type": "stream",
     "text": [
      "env: PYTHONPATH=/home/ubuntu/Model-References/PyTorch/computer_vision/classification/torchvision:/root/examples/models:/usr/lib/habanalabs/:/root\n"
     ]
    }
   ],
   "source": [
    "%set_env PYTHONPATH=/home/ubuntu/Model-References/PyTorch/computer_vision/classification/torchvision:/root/examples/models:/usr/lib/habanalabs/:/root"
   ]
  },
  {
   "cell_type": "code",
   "execution_count": 5,
   "metadata": {
    "vscode": {
     "languageId": "python"
    }
   },
   "outputs": [
    {
     "name": "stdout",
     "output_type": "stream",
     "text": [
      "/home/ubuntu/Model-References/PyTorch/computer_vision/classification/torchvision\n"
     ]
    }
   ],
   "source": [
    "%cd /home/ubuntu/Model-References/PyTorch/computer_vision/classification/torchvision"
   ]
  },
  {
   "cell_type": "markdown",
   "metadata": {},
   "source": [
    "#### Run the following bash command as a shell script in the final cell(demo_resnet.sh) to start multi-HPU training."
   ]
  },
  {
   "attachments": {},
   "cell_type": "markdown",
   "metadata": {},
   "source": [
    "```bash\n",
    "  export MASTER_ADDR=localhost\n",
    "  export MASTER_PORT=12355\n",
    "  /opt/amazon/openmpi/bin/mpirun -n 8 --bind-to core --map-by slot:PE=6 --rank-by core --report-bindings --allow-run-as-root \\\n",
    "    python3 train.py --model=resnet152 --device=hpu --batch-size=256 --epochs=90 --workers=10 \\\n",
    "    --dl-worker-type=MP --print-freq=10 --output-dir=. --seed=123 --hmp --hmp-bf16 ./ops_bf16_Resnet.txt \\\n",
    "    --hmp-fp32 ./ops_fp32_Resnet.txt --custom-lr-values 0.275 0.45 0.625 0.8 0.08 0.008 0.0008 \\\n",
    "    --custom-lr-milestones 1 2 3 4 30 60 80 --deterministic --dl-time-exclude=False\n",
    "```"
   ]
  },
  {
   "cell_type": "code",
   "execution_count": 6,
   "metadata": {
    "vscode": {
     "languageId": "python"
    }
   },
   "outputs": [
    {
     "name": "stdout",
     "output_type": "stream",
     "text": [
      "[ip-172-31-18-215:662121] MCW rank 7 bound to socket 1[core 42[hwt 0-1]], socket 1[core 43[hwt 0-1]], socket 1[core 44[hwt 0-1]], socket 1[core 45[hwt 0-1]], socket 1[core 46[hwt 0-1]], socket 1[core 47[hwt 0-1]]: [../../../../../../../../../../../../../../../../../../../../../../../..][../../../../../../../../../../../../../../../../../../BB/BB/BB/BB/BB/BB]\n",
      "[ip-172-31-18-215:662121] MCW rank 0 bound to socket 0[core 0[hwt 0-1]], socket 0[core 1[hwt 0-1]], socket 0[core 2[hwt 0-1]], socket 0[core 3[hwt 0-1]], socket 0[core 4[hwt 0-1]], socket 0[core 5[hwt 0-1]]: [BB/BB/BB/BB/BB/BB/../../../../../../../../../../../../../../../../../..][../../../../../../../../../../../../../../../../../../../../../../../..]\n",
      "[ip-172-31-18-215:662121] MCW rank 1 bound to socket 0[core 6[hwt 0-1]], socket 0[core 7[hwt 0-1]], socket 0[core 8[hwt 0-1]], socket 0[core 9[hwt 0-1]], socket 0[core 10[hwt 0-1]], socket 0[core 11[hwt 0-1]]: [../../../../../../BB/BB/BB/BB/BB/BB/../../../../../../../../../../../..][../../../../../../../../../../../../../../../../../../../../../../../..]\n",
      "[ip-172-31-18-215:662121] MCW rank 2 bound to socket 0[core 12[hwt 0-1]], socket 0[core 13[hwt 0-1]], socket 0[core 14[hwt 0-1]], socket 0[core 15[hwt 0-1]], socket 0[core 16[hwt 0-1]], socket 0[core 17[hwt 0-1]]: [../../../../../../../../../../../../BB/BB/BB/BB/BB/BB/../../../../../..][../../../../../../../../../../../../../../../../../../../../../../../..]\n",
      "[ip-172-31-18-215:662121] MCW rank 3 bound to socket 0[core 18[hwt 0-1]], socket 0[core 19[hwt 0-1]], socket 0[core 20[hwt 0-1]], socket 0[core 21[hwt 0-1]], socket 0[core 22[hwt 0-1]], socket 0[core 23[hwt 0-1]]: [../../../../../../../../../../../../../../../../../../BB/BB/BB/BB/BB/BB][../../../../../../../../../../../../../../../../../../../../../../../..]\n",
      "[ip-172-31-18-215:662121] MCW rank 4 bound to socket 1[core 24[hwt 0-1]], socket 1[core 25[hwt 0-1]], socket 1[core 26[hwt 0-1]], socket 1[core 27[hwt 0-1]], socket 1[core 28[hwt 0-1]], socket 1[core 29[hwt 0-1]]: [../../../../../../../../../../../../../../../../../../../../../../../..][BB/BB/BB/BB/BB/BB/../../../../../../../../../../../../../../../../../..]\n",
      "[ip-172-31-18-215:662121] MCW rank 5 bound to socket 1[core 30[hwt 0-1]], socket 1[core 31[hwt 0-1]], socket 1[core 32[hwt 0-1]], socket 1[core 33[hwt 0-1]], socket 1[core 34[hwt 0-1]], socket 1[core 35[hwt 0-1]]: [../../../../../../../../../../../../../../../../../../../../../../../..][../../../../../../BB/BB/BB/BB/BB/BB/../../../../../../../../../../../..]\n",
      "[ip-172-31-18-215:662121] MCW rank 6 bound to socket 1[core 36[hwt 0-1]], socket 1[core 37[hwt 0-1]], socket 1[core 38[hwt 0-1]], socket 1[core 39[hwt 0-1]], socket 1[core 40[hwt 0-1]], socket 1[core 41[hwt 0-1]]: [../../../../../../../../../../../../../../../../../../../../../../../..][../../../../../../../../../../../../BB/BB/BB/BB/BB/BB/../../../../../..]\n",
      "hmp:verbose_mode  False\n",
      "hmp:opt_level O1\n",
      "hmp:verbose_mode  False\n",
      "hmp:opt_level O1\n",
      "hmp:verbose_mode  False\n",
      "hmp:opt_level O1\n",
      "hmp:verbose_mode  False\n",
      "hmp:opt_level O1\n",
      "| distributed init (rank 0): env://\n",
      "| distributed init (rank 1): env://\n",
      "| distributed init (rank 2): env://\n",
      "| distributed init (rank 3): env://\n",
      "hmp:verbose_mode  False\n",
      "hmp:opt_level O1\n",
      "hmp:verbose_mode  False\n",
      "hmp:opt_level O1\n",
      "hmp:verbose_mode  False\n",
      "hmp:opt_level O1\n",
      "hmp:verbose_mode  False\n",
      "hmp:opt_level O1\n",
      "| distributed init (rank 4): env://\n",
      "| distributed init (rank 5): env://\n",
      "| distributed init (rank 6): env://\n",
      "| distributed init (rank 7): env://\n",
      "Namespace(apex=False, apex_opt_level='O1', batch_size=256, cache_dataset=False, channels_last=False, custom_lr_milestones=[1, 2, 3, 4, 30, 60, 80], custom_lr_values=[0.275, 0.45, 0.625, 0.8, 0.08, 0.008, 0.0008], data_path='/data/pytorch/imagenet/ILSVRC2012/', deterministic=True, device='hpu', dist_backend='hccl', dist_url='env://', distributed=True, dl_time_exclude=False, dl_worker_type='MP', epochs=40, hls_type='HLS1', hmp_bf16='./ops_bf16_Resnet.txt', hmp_fp32='./ops_fp32_Resnet.txt', hmp_opt_level='O1', hmp_verbose=False, is_hmp=True, local_rank=0, lr=0.1, lr_gamma=0.1, lr_step_size=30, model='resnet152', momentum=0.9, num_eval_steps=9223372036854775807, num_train_steps=9223372036854775807, output_dir='.', pretrained=False, print_freq=10, process_per_node=8, rank=0, resume='', run_lazy_mode=True, save_checkpoint=False, seed=123, start_epoch=0, sync_bn=False, test_only=False, weight_decay=0.0001, workers=10, world_size=8)\n",
      "Loading data\n",
      "Loading training data\n",
      "Took 0.00016570091247558594\n",
      "Loading validation data\n",
      "Creating data loaders\n",
      "Creating model\n",
      "Start training\n",
      "Epoch: [0]  [0/1]  eta: 0:00:52  lr: 0.1  img/s: 23.736468839156974  loss: 7.3951 (7.3951)  acc1: 0.0000 (0.0000)  acc5: 0.0000 (0.0000)  time: 52.6616  data: 3.0181\n",
      "/home/ubuntu/Model-References/PyTorch/computer_vision/classification/torchvision/utils.py:182: UserWarning: To copy construct from a tensor, it is recommended to use sourceTensor.clone().detach() or sourceTensor.clone().detach().requires_grad_(True), rather than torch.tensor(sourceTensor).\n",
      "  pred_cpu = torch.tensor(pred, device='cpu')\n",
      "/home/ubuntu/Model-References/PyTorch/computer_vision/classification/torchvision/utils.py:183: UserWarning: To copy construct from a tensor, it is recommended to use sourceTensor.clone().detach() or sourceTensor.clone().detach().requires_grad_(True), rather than torch.tensor(sourceTensor).\n",
      "  target_cpu = torch.tensor(target, device='cpu')\n",
      "/home/ubuntu/Model-References/PyTorch/computer_vision/classification/torchvision/utils.py:182: UserWarning: To copy construct from a tensor, it is recommended to use sourceTensor.clone().detach() or sourceTensor.clone().detach().requires_grad_(True), rather than torch.tensor(sourceTensor).\n",
      "  pred_cpu = torch.tensor(pred, device='cpu')\n",
      "/home/ubuntu/Model-References/PyTorch/computer_vision/classification/torchvision/utils.py:183: UserWarning: To copy construct from a tensor, it is recommended to use sourceTensor.clone().detach() or sourceTensor.clone().detach().requires_grad_(True), rather than torch.tensor(sourceTensor).\n",
      "  target_cpu = torch.tensor(target, device='cpu')\n",
      "Epoch: [0] Total time: 0:00:53\n",
      "/home/ubuntu/Model-References/PyTorch/computer_vision/classification/torchvision/utils.py:182: UserWarning: To copy construct from a tensor, it is recommended to use sourceTensor.clone().detach() or sourceTensor.clone().detach().requires_grad_(True), rather than torch.tensor(sourceTensor).\n",
      "  pred_cpu = torch.tensor(pred, device='cpu')\n",
      "/home/ubuntu/Model-References/PyTorch/computer_vision/classification/torchvision/utils.py:183: UserWarning: To copy construct from a tensor, it is recommended to use sourceTensor.clone().detach() or sourceTensor.clone().detach().requires_grad_(True), rather than torch.tensor(sourceTensor).\n",
      "  target_cpu = torch.tensor(target, device='cpu')\n",
      "/home/ubuntu/Model-References/PyTorch/computer_vision/classification/torchvision/utils.py:182: UserWarning: To copy construct from a tensor, it is recommended to use sourceTensor.clone().detach() or sourceTensor.clone().detach().requires_grad_(True), rather than torch.tensor(sourceTensor).\n",
      "  pred_cpu = torch.tensor(pred, device='cpu')\n",
      "/home/ubuntu/Model-References/PyTorch/computer_vision/classification/torchvision/utils.py:183: UserWarning: To copy construct from a tensor, it is recommended to use sourceTensor.clone().detach() or sourceTensor.clone().detach().requires_grad_(True), rather than torch.tensor(sourceTensor).\n",
      "  target_cpu = torch.tensor(target, device='cpu')\n",
      "/home/ubuntu/Model-References/PyTorch/computer_vision/classification/torchvision/utils.py:182: UserWarning: To copy construct from a tensor, it is recommended to use sourceTensor.clone().detach() or sourceTensor.clone().detach().requires_grad_(True), rather than torch.tensor(sourceTensor).\n",
      "  pred_cpu = torch.tensor(pred, device='cpu')\n",
      "/home/ubuntu/Model-References/PyTorch/computer_vision/classification/torchvision/utils.py:183: UserWarning: To copy construct from a tensor, it is recommended to use sourceTensor.clone().detach() or sourceTensor.clone().detach().requires_grad_(True), rather than torch.tensor(sourceTensor).\n",
      "  target_cpu = torch.tensor(target, device='cpu')\n",
      "/home/ubuntu/Model-References/PyTorch/computer_vision/classification/torchvision/utils.py:182: UserWarning: To copy construct from a tensor, it is recommended to use sourceTensor.clone().detach() or sourceTensor.clone().detach().requires_grad_(True), rather than torch.tensor(sourceTensor).\n",
      "  pred_cpu = torch.tensor(pred, device='cpu')\n",
      "/home/ubuntu/Model-References/PyTorch/computer_vision/classification/torchvision/utils.py:183: UserWarning: To copy construct from a tensor, it is recommended to use sourceTensor.clone().detach() or sourceTensor.clone().detach().requires_grad_(True), rather than torch.tensor(sourceTensor).\n",
      "  target_cpu = torch.tensor(target, device='cpu')\n",
      "/home/ubuntu/Model-References/PyTorch/computer_vision/classification/torchvision/utils.py:182: UserWarning: To copy construct from a tensor, it is recommended to use sourceTensor.clone().detach() or sourceTensor.clone().detach().requires_grad_(True), rather than torch.tensor(sourceTensor).\n",
      "  pred_cpu = torch.tensor(pred, device='cpu')\n",
      "/home/ubuntu/Model-References/PyTorch/computer_vision/classification/torchvision/utils.py:183: UserWarning: To copy construct from a tensor, it is recommended to use sourceTensor.clone().detach() or sourceTensor.clone().detach().requires_grad_(True), rather than torch.tensor(sourceTensor).\n",
      "  target_cpu = torch.tensor(target, device='cpu')\n",
      "/home/ubuntu/Model-References/PyTorch/computer_vision/classification/torchvision/utils.py:182: UserWarning: To copy construct from a tensor, it is recommended to use sourceTensor.clone().detach() or sourceTensor.clone().detach().requires_grad_(True), rather than torch.tensor(sourceTensor).\n",
      "  pred_cpu = torch.tensor(pred, device='cpu')\n",
      "/home/ubuntu/Model-References/PyTorch/computer_vision/classification/torchvision/utils.py:183: UserWarning: To copy construct from a tensor, it is recommended to use sourceTensor.clone().detach() or sourceTensor.clone().detach().requires_grad_(True), rather than torch.tensor(sourceTensor).\n",
      "  target_cpu = torch.tensor(target, device='cpu')\n",
      "Epoch: [1]  [0/1]  eta: 0:01:14  lr: 0.275  img/s: 16.80985476709729  loss: 5.1350 (5.1350)  acc1: 10.4000 (10.4000)  acc5: 50.4000 (50.4000)  time: 74.3612  data: 2.9498\n",
      "Epoch: [1] Total time: 0:01:14\n",
      "Epoch: [2]  [0/1]  eta: 0:00:59  lr: 0.45  img/s: 21.183616640151726  loss: 44.0021 (44.0021)  acc1: 12.0000 (12.0000)  acc5: 46.4000 (46.4000)  time: 59.0079  data: 2.7637\n",
      "Epoch: [2] Total time: 0:00:59\n",
      "Epoch: [3]  [0/1]  eta: 0:00:06  lr: 0.625  img/s: 205.99113569563124  loss: 41.7896 (41.7896)  acc1: 10.4000 (10.4000)  acc5: 41.6000 (41.6000)  time: 6.0682  data: 2.7904\n",
      "Epoch: [3] Total time: 0:00:06\n",
      "Epoch: [4]  [0/1]  eta: 0:00:03  lr: 0.8  img/s: 388.11622077929866  loss: 20.5656 (20.5656)  acc1: 8.8000 (8.8000)  acc5: 49.6000 (49.6000)  time: 3.2207  data: 2.8568\n",
      "Epoch: [4] Total time: 0:00:03\n",
      "Epoch: [5]  [0/1]  eta: 0:00:03  lr: 0.8  img/s: 381.6927993530512  loss: 9.3912 (9.3912)  acc1: 10.4000 (10.4000)  acc5: 45.6000 (45.6000)  time: 3.2749  data: 2.9424\n",
      "Epoch: [5] Total time: 0:00:03\n",
      "Epoch: [6]  [0/1]  eta: 0:00:03  lr: 0.8  img/s: 375.7166674609235  loss: 16.7173 (16.7173)  acc1: 8.8000 (8.8000)  acc5: 44.8000 (44.8000)  time: 3.3270  data: 2.8987\n",
      "Epoch: [6] Total time: 0:00:03\n",
      "Epoch: [7]  [0/1]  eta: 0:00:03  lr: 0.8  img/s: 381.27138701095083  loss: 33.1052 (33.1052)  acc1: 8.8000 (8.8000)  acc5: 47.2000 (47.2000)  time: 3.2785  data: 2.6545\n",
      "Epoch: [7] Total time: 0:00:03\n",
      "Epoch: [8]  [0/1]  eta: 0:00:03  lr: 0.8  img/s: 373.31755817528625  loss: 9.4658 (9.4658)  acc1: 11.2000 (11.2000)  acc5: 52.8000 (52.8000)  time: 3.3484  data: 2.8822\n",
      "Epoch: [8] Total time: 0:00:03\n",
      "Epoch: [9]  [0/1]  eta: 0:00:03  lr: 0.8  img/s: 378.74224212592895  loss: 19.6683 (19.6683)  acc1: 12.0000 (12.0000)  acc5: 40.0000 (40.0000)  time: 3.3004  data: 2.9266\n",
      "Epoch: [9] Total time: 0:00:03\n",
      "Epoch: [10]  [0/1]  eta: 0:00:03  lr: 0.8  img/s: 365.99465354947546  loss: 10.7300 (10.7300)  acc1: 8.0000 (8.0000)  acc5: 49.6000 (49.6000)  time: 3.4154  data: 3.0990\n",
      "Epoch: [10] Total time: 0:00:03\n",
      "Epoch: [11]  [0/1]  eta: 0:00:03  lr: 0.8  img/s: 371.09025386254484  loss: 19.3048 (19.3048)  acc1: 8.8000 (8.8000)  acc5: 48.8000 (48.8000)  time: 3.3685  data: 3.0305\n",
      "Epoch: [11] Total time: 0:00:03\n",
      "Epoch: [12]  [0/1]  eta: 0:00:03  lr: 0.8  img/s: 384.4395149806522  loss: 8.2026 (8.2026)  acc1: 8.0000 (8.0000)  acc5: 46.4000 (46.4000)  time: 3.2515  data: 2.9825\n",
      "Epoch: [12] Total time: 0:00:03\n",
      "Epoch: [13]  [0/1]  eta: 0:00:03  lr: 0.8  img/s: 374.7386222268761  loss: 6.0559 (6.0559)  acc1: 8.8000 (8.8000)  acc5: 48.8000 (48.8000)  time: 3.3357  data: 2.9182\n",
      "Epoch: [13] Total time: 0:00:03\n",
      "Epoch: [14]  [0/1]  eta: 0:00:03  lr: 0.8  img/s: 379.45175746347593  loss: 3.9750 (3.9750)  acc1: 9.6000 (9.6000)  acc5: 51.2000 (51.2000)  time: 3.2942  data: 3.0096\n",
      "Epoch: [14] Total time: 0:00:03\n",
      "Epoch: [15]  [0/1]  eta: 0:00:03  lr: 0.8  img/s: 396.95325535619025  loss: 3.1504 (3.1504)  acc1: 10.4000 (10.4000)  acc5: 50.4000 (50.4000)  time: 3.1490  data: 2.8636\n",
      "Epoch: [15] Total time: 0:00:03\n",
      "Epoch: [16]  [0/1]  eta: 0:00:03  lr: 0.8  img/s: 374.88867667989615  loss: 2.5330 (2.5330)  acc1: 13.6000 (13.6000)  acc5: 52.0000 (52.0000)  time: 3.3343  data: 2.9063\n",
      "Epoch: [16] Total time: 0:00:03\n",
      "Epoch: [17]  [0/1]  eta: 0:00:03  lr: 0.8  img/s: 390.72895161363647  loss: 2.9617 (2.9617)  acc1: 12.8000 (12.8000)  acc5: 55.2000 (55.2000)  time: 3.1992  data: 2.6856\n",
      "Epoch: [17] Total time: 0:00:03\n",
      "Epoch: [18]  [0/1]  eta: 0:00:03  lr: 0.8  img/s: 374.32688516776267  loss: 2.6193 (2.6193)  acc1: 8.8000 (8.8000)  acc5: 56.0000 (56.0000)  time: 3.3393  data: 3.0591\n",
      "Epoch: [18] Total time: 0:00:03\n",
      "Epoch: [19]  [0/1]  eta: 0:00:03  lr: 0.8  img/s: 360.76546233293226  loss: 2.4291 (2.4291)  acc1: 9.6000 (9.6000)  acc5: 54.4000 (54.4000)  time: 3.4649  data: 3.1857\n",
      "Epoch: [19] Total time: 0:00:03\n",
      "Epoch: [20]  [0/1]  eta: 0:00:03  lr: 0.8  img/s: 387.6704803874398  loss: 3.0351 (3.0351)  acc1: 10.4000 (10.4000)  acc5: 51.2000 (51.2000)  time: 3.2244  data: 2.7904\n",
      "Epoch: [20] Total time: 0:00:03\n",
      "Epoch: [21]  [0/1]  eta: 0:00:03  lr: 0.8  img/s: 366.1622828153307  loss: 2.7037 (2.7037)  acc1: 12.0000 (12.0000)  acc5: 51.2000 (51.2000)  time: 3.4138  data: 3.1379\n",
      "Epoch: [21] Total time: 0:00:03\n",
      "Epoch: [22]  [0/1]  eta: 0:00:03  lr: 0.8  img/s: 384.68844768752047  loss: 2.6297 (2.6297)  acc1: 12.8000 (12.8000)  acc5: 55.2000 (55.2000)  time: 3.2494  data: 2.9750\n",
      "Epoch: [22] Total time: 0:00:03\n",
      "Epoch: [23]  [0/1]  eta: 0:00:03  lr: 0.8  img/s: 376.4109361402759  loss: 2.5508 (2.5508)  acc1: 9.6000 (9.6000)  acc5: 43.2000 (43.2000)  time: 3.3208  data: 2.7792\n",
      "Epoch: [23] Total time: 0:00:03\n",
      "Epoch: [24]  [0/1]  eta: 0:00:03  lr: 0.8  img/s: 391.7030860006312  loss: 2.5673 (2.5673)  acc1: 13.6000 (13.6000)  acc5: 49.6000 (49.6000)  time: 3.1912  data: 2.7233\n",
      "Epoch: [24] Total time: 0:00:03\n",
      "Epoch: [25]  [0/1]  eta: 0:00:03  lr: 0.8  img/s: 369.76154453983065  loss: 2.3091 (2.3091)  acc1: 8.0000 (8.0000)  acc5: 53.6000 (53.6000)  time: 3.3806  data: 2.9445\n",
      "Epoch: [25] Total time: 0:00:03\n",
      "Epoch: [26]  [0/1]  eta: 0:00:03  lr: 0.8  img/s: 381.031757031207  loss: 2.3341 (2.3341)  acc1: 16.0000 (16.0000)  acc5: 52.8000 (52.8000)  time: 3.2806  data: 3.0049\n",
      "Epoch: [26] Total time: 0:00:03\n",
      "Epoch: [27]  [0/1]  eta: 0:00:03  lr: 0.8  img/s: 385.91767921770645  loss: 2.3142 (2.3142)  acc1: 16.8000 (16.8000)  acc5: 60.8000 (60.8000)  time: 3.2390  data: 2.8662\n",
      "Epoch: [27] Total time: 0:00:03\n",
      "Epoch: [28]  [0/1]  eta: 0:00:03  lr: 0.8  img/s: 370.88300187957026  loss: 2.3593 (2.3593)  acc1: 15.2000 (15.2000)  acc5: 55.2000 (55.2000)  time: 3.3703  data: 3.0418\n",
      "Epoch: [28] Total time: 0:00:03\n",
      "Epoch: [29]  [0/1]  eta: 0:00:03  lr: 0.8  img/s: 381.68513000632856  loss: 2.3481 (2.3481)  acc1: 12.0000 (12.0000)  acc5: 56.0000 (56.0000)  time: 3.2750  data: 3.0032\n",
      "Epoch: [29] Total time: 0:00:03\n",
      "Epoch: [30]  [0/1]  eta: 0:00:03  lr: 0.08  img/s: 375.9049654934574  loss: 2.2992 (2.2992)  acc1: 14.4000 (14.4000)  acc5: 58.4000 (58.4000)  time: 3.3253  data: 2.7597\n",
      "Epoch: [30] Total time: 0:00:03\n",
      "Epoch: [31]  [0/1]  eta: 0:00:03  lr: 0.08  img/s: 368.52257373677793  loss: 2.3664 (2.3664)  acc1: 9.6000 (9.6000)  acc5: 48.8000 (48.8000)  time: 3.3919  data: 3.1138\n",
      "Epoch: [31] Total time: 0:00:03\n",
      "Epoch: [32]  [0/1]  eta: 0:00:03  lr: 0.08  img/s: 381.7377935035958  loss: 2.3666 (2.3666)  acc1: 10.4000 (10.4000)  acc5: 48.8000 (48.8000)  time: 3.2745  data: 2.9963\n",
      "Epoch: [32] Total time: 0:00:03\n",
      "Epoch: [33]  [0/1]  eta: 0:00:03  lr: 0.08  img/s: 372.793460869585  loss: 2.3517 (2.3517)  acc1: 6.4000 (6.4000)  acc5: 48.8000 (48.8000)  time: 3.3531  data: 3.0073\n",
      "Epoch: [33] Total time: 0:00:03\n",
      "Epoch: [34]  [0/1]  eta: 0:00:03  lr: 0.08  img/s: 395.99634977119604  loss: 2.3144 (2.3144)  acc1: 8.8000 (8.8000)  acc5: 56.8000 (56.8000)  time: 3.1566  data: 2.8812\n",
      "Epoch: [34] Total time: 0:00:03\n",
      "Epoch: [35]  [0/1]  eta: 0:00:03  lr: 0.08  img/s: 378.40721344524667  loss: 2.3578 (2.3578)  acc1: 5.6000 (5.6000)  acc5: 50.4000 (50.4000)  time: 3.3033  data: 3.0286\n",
      "Epoch: [35] Total time: 0:00:03\n",
      "Epoch: [36]  [0/1]  eta: 0:00:03  lr: 0.08  img/s: 376.2718394092734  loss: 2.3425 (2.3425)  acc1: 8.0000 (8.0000)  acc5: 53.6000 (53.6000)  time: 3.3221  data: 2.7383\n",
      "Epoch: [36] Total time: 0:00:03\n",
      "Epoch: [37]  [0/1]  eta: 0:00:03  lr: 0.08  img/s: 345.3333547620999  loss: 2.3359 (2.3359)  acc1: 10.4000 (10.4000)  acc5: 53.6000 (53.6000)  time: 3.6197  data: 3.2923\n",
      "Epoch: [37] Total time: 0:00:04\n",
      "Epoch: [38]  [0/1]  eta: 0:00:03  lr: 0.08  img/s: 386.6879533066744  loss: 2.3249 (2.3249)  acc1: 8.8000 (8.8000)  acc5: 55.2000 (55.2000)  time: 3.2326  data: 2.9573\n",
      "Epoch: [38] Total time: 0:00:03\n",
      "Epoch: [39]  [0/1]  eta: 0:00:03  lr: 0.08  img/s: 399.29120571263763  loss: 2.3167 (2.3167)  acc1: 12.0000 (12.0000)  acc5: 53.6000 (53.6000)  time: 3.1306  data: 2.7415\n",
      "Epoch: [39] Total time: 0:00:03\n",
      "Training time 0:05:24\n"
     ]
    }
   ],
   "source": [
    "!sh /home/ubuntu/DL1-Workshop/PyTorch-ResNet152/demo_resnet.sh"
   ]
  },
  {
   "cell_type": "markdown",
   "metadata": {},
   "source": [
    "# SUMMARY\n",
    "\n",
    "In this workshop, we did the following:\n",
    "- Learned about HMP usage and why it is important.\n",
    "- Setup DistributedDataParallel in the model and trained on 8 HPUs.\n",
    "\n",
    "\n",
    "\n"
   ]
  }
 ],
 "metadata": {
  "kernelspec": {
   "display_name": "Python 3",
   "language": "python",
   "name": "python3"
  },
  "vscode": {
   "interpreter": {
    "hash": "92265e7bf95517031b05ae8ffa1541004d740e0704a96d3b488bf9f3a9b868ef"
   }
  }
 },
 "nbformat": 4,
 "nbformat_minor": 4
}
