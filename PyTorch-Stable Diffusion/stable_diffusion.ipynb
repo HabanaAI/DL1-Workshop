{
 "cells": [
  {
   "cell_type": "markdown",
   "metadata": {},
   "source": [
    "# Stable Diffusion PyTorch Inference on Gaudi\n",
    "\n",
    "In this notebook we will demonstrate how you can run inference on a Habana Gaudi with the stable-diffusion image-to-text generation model using Pytorch."
   ]
  },
  {
   "cell_type": "markdown",
   "metadata": {},
   "source": [
    "## Run inference"
   ]
  },
  {
   "cell_type": "markdown",
   "metadata": {},
   "source": [
    "Since we already have cloned Habana `Model-References` repository 1.7.0 branch to this DLAMI, let us cd to the appropriate directory where our image-to-text generation script and model resides."
   ]
  },
  {
   "cell_type": "code",
   "execution_count": null,
   "metadata": {},
   "outputs": [],
   "source": [
    "%cd /home/ubuntu/Model-References/PyTorch/generative_models/stable-diffusion"
   ]
  },
  {
   "cell_type": "markdown",
   "metadata": {},
   "source": [
    "Enter a prompt for image generation:"
   ]
  },
  {
   "cell_type": "code",
   "execution_count": null,
   "metadata": {},
   "outputs": [],
   "source": [
    "prompt = input(\"Enter a prompt for image generation: \")"
   ]
  },
  {
   "cell_type": "markdown",
   "metadata": {},
   "source": [
    "Run the following cell to generate images from your text prompt."
   ]
  },
  {
   "cell_type": "code",
   "execution_count": null,
   "metadata": {},
   "outputs": [],
   "source": [
    "cmd = f'python scripts/txt2img.py --prompt \"{prompt}\" --ddim_eta 0.0 --n_samples 4 --n_rows 4 --n_iter 1 --scale 5.0  --ddim_steps 50 --device \"hpu\" --precision hmp --use_hpu_graph'\n",
    "print(cmd)\n",
    "import os\n",
    "os.system(cmd)"
   ]
  },
  {
   "cell_type": "markdown",
   "metadata": {},
   "source": [
    "## View results\n",
    "Run the below cell to view latest results."
   ]
  },
  {
   "cell_type": "code",
   "execution_count": null,
   "metadata": {},
   "outputs": [],
   "source": [
    "from PIL import Image\n",
    "import glob\n",
    "filename = glob.glob('outputs/txt2img-samples/grid-*.png')[-1]\n",
    "image = Image.open(filename)\n",
    "image.show()"
   ]
  }
 ],
 "metadata": {
  "kernelspec": {
   "display_name": "Python 3 (ipykernel)",
   "language": "python",
   "name": "python3"
  },
  "language_info": {
   "codemirror_mode": {
    "name": "ipython",
    "version": 3
   },
   "file_extension": ".py",
   "mimetype": "text/x-python",
   "name": "python",
   "nbconvert_exporter": "python",
   "pygments_lexer": "ipython3",
   "version": "3.8.10"
  },
  "vscode": {
   "interpreter": {
    "hash": "a1375f21cc858c2380a23ebd97e86770f3be227e6f0267cb1bd779f0d890a7d9"
   }
  }
 },
 "nbformat": 4,
 "nbformat_minor": 2
}
